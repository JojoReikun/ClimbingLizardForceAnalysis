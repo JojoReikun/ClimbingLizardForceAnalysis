{
 "cells": [
  {
   "cell_type": "code",
   "execution_count": 1,
   "id": "4ae841de",
   "metadata": {},
   "outputs": [],
   "source": [
    "import pandas as pd\n",
    "import numpy as np\n",
    "import seaborn as sn\n",
    "import matplotlib.pyplot as plt"
   ]
  },
  {
   "cell_type": "code",
   "execution_count": 23,
   "id": "77218d80",
   "metadata": {},
   "outputs": [
    {
     "name": "stdout",
     "output_type": "stream",
     "text": [
      "              filename   foot foot2  direction     MeanX     MeanY     MeanZ  \\\n",
      "0  Gecko_11_run_11.avi   hind    HR       down -0.007077  0.017619  0.002147   \n",
      "1  Gecko_11_run_12.avi   hind    HL         up  0.002505  0.012388 -0.001679   \n",
      "2  Gecko_11_run_13.avi   hind    HL         up -0.007662  0.007473 -0.001887   \n",
      "3  Gecko_11_run_14.avi   fore    FR       down -0.000262  0.003429 -0.001460   \n",
      "4  Gecko_11_run_14.avi   hind    HR       down -0.008075  0.018584  0.002838   \n",
      "\n",
      "    IntergralX   IntergralY   IntergralZ      MinX      MinY      MinZ  \\\n",
      "0    -0.000301     0.000750     0.000092 -0.013078 -0.000413 -0.000675   \n",
      "1     0.000175     0.000867    -0.000118 -0.010461 -0.002549 -0.007867   \n",
      "2    -0.000473     0.000463    -0.000117 -0.061860 -0.016181 -0.012615   \n",
      "3    -0.000010     0.000127    -0.000054 -0.006117 -0.000311 -0.010809   \n",
      "4    -0.000420     0.000966     0.000148 -0.015089 -0.000250 -0.004869   \n",
      "\n",
      "       MaxX      MaxY      MaxZ  \n",
      "0 -0.000232  0.027622  0.004518  \n",
      "1  0.014903  0.025964  0.003719  \n",
      "2  0.020310  0.025267  0.011059  \n",
      "3  0.007578  0.011739  0.000578  \n",
      "4  0.000361  0.032336  0.007305  \n",
      "\n",
      " value counts:\n",
      " HL    52\n",
      "FL    45\n",
      "FR    34\n",
      "HR    30\n",
      "Name: foot2, dtype: int64\n",
      "Index(['filename', ' foot', 'foot2', ' direction', ' MeanX', ' MeanY',\n",
      "       ' MeanZ', ' IntergralX', ' IntergralY', ' IntergralZ', ' MinX', ' MinY',\n",
      "       ' MinZ', ' MaxX', ' MaxY', ' MaxZ'],\n",
      "      dtype='object')\n",
      "\n",
      " Index(['filename', 'foot', 'foot2', 'direction', 'MeanX', 'MeanY', 'MeanZ',\n",
      "       'IntergralX', 'IntergralY', 'IntergralZ', 'MinX', 'MinY', 'MinZ',\n",
      "       'MaxX', 'MaxY', 'MaxZ'],\n",
      "      dtype='object')\n"
     ]
    }
   ],
   "source": [
    "df_forces = pd.read_csv(r\"D:\\Jojo\\PhD\\ClimbingRobot\\ClimbingLizardForceAnalysis\\hfren_forces_TinaSRP.csv\")\n",
    "print(df_forces.head())\n",
    "\n",
    "### Count how many entries of which foot exist:\n",
    "print(\"\\n value counts:\\n\",df_forces[\"foot2\"].value_counts())\n",
    "\n",
    "### Print all column names:\n",
    "print(df_forces.columns)\n",
    "\n",
    "### Strip all white spaces from colnames:\n",
    "df_forces.columns = df_forces.columns.str.replace(' ', '')\n",
    "print(\"\\n\",df_forces.columns)"
   ]
  },
  {
   "cell_type": "code",
   "execution_count": 76,
   "id": "fce37b24",
   "metadata": {},
   "outputs": [
    {
     "name": "stdout",
     "output_type": "stream",
     "text": [
      "Empty DataFrame\n",
      "Columns: [direction, foot2, variable, value]\n",
      "Index: []\n"
     ]
    },
    {
     "ename": "ValueError",
     "evalue": "min() arg is an empty sequence",
     "output_type": "error",
     "traceback": [
      "\u001b[1;31m---------------------------------------------------------------------------\u001b[0m",
      "\u001b[1;31mValueError\u001b[0m                                Traceback (most recent call last)",
      "\u001b[1;32m<ipython-input-76-03628557654b>\u001b[0m in \u001b[0;36m<module>\u001b[1;34m\u001b[0m\n\u001b[0;32m      7\u001b[0m \u001b[0mdf_forces_means_up\u001b[0m \u001b[1;33m=\u001b[0m \u001b[0mdf_forces_means\u001b[0m\u001b[1;33m[\u001b[0m\u001b[0mdf_forces_means\u001b[0m\u001b[1;33m[\u001b[0m\u001b[1;34m\"direction\"\u001b[0m\u001b[1;33m]\u001b[0m\u001b[1;33m==\u001b[0m\u001b[1;34m\"up\"\u001b[0m\u001b[1;33m]\u001b[0m\u001b[1;33m\u001b[0m\u001b[1;33m\u001b[0m\u001b[0m\n\u001b[0;32m      8\u001b[0m \u001b[0mprint\u001b[0m\u001b[1;33m(\u001b[0m\u001b[0mdf_forces_means_up\u001b[0m\u001b[1;33m.\u001b[0m\u001b[0mhead\u001b[0m\u001b[1;33m(\u001b[0m\u001b[1;33m)\u001b[0m\u001b[1;33m)\u001b[0m\u001b[1;33m\u001b[0m\u001b[1;33m\u001b[0m\u001b[0m\n\u001b[1;32m----> 9\u001b[1;33m \u001b[0msn\u001b[0m\u001b[1;33m.\u001b[0m\u001b[0mcatplot\u001b[0m\u001b[1;33m(\u001b[0m\u001b[0mx\u001b[0m\u001b[1;33m=\u001b[0m\u001b[1;34m\"variable\"\u001b[0m\u001b[1;33m,\u001b[0m \u001b[0my\u001b[0m\u001b[1;33m=\u001b[0m\u001b[1;34m\"value\"\u001b[0m\u001b[1;33m,\u001b[0m \u001b[0mdata\u001b[0m\u001b[1;33m=\u001b[0m\u001b[0mdf_forces_means_up\u001b[0m\u001b[1;33m,\u001b[0m \u001b[0mcol\u001b[0m\u001b[1;33m=\u001b[0m\u001b[1;34m\"foot2\"\u001b[0m\u001b[1;33m,\u001b[0m \u001b[0mhue\u001b[0m\u001b[1;33m=\u001b[0m\u001b[1;34m\"variable\"\u001b[0m\u001b[1;33m)\u001b[0m\u001b[1;33m\u001b[0m\u001b[1;33m\u001b[0m\u001b[0m\n\u001b[0m\u001b[0;32m     10\u001b[0m \u001b[1;33m\u001b[0m\u001b[0m\n\u001b[0;32m     11\u001b[0m \u001b[1;31m### Plot Max, Min, Mean\u001b[0m\u001b[1;33m\u001b[0m\u001b[1;33m\u001b[0m\u001b[1;33m\u001b[0m\u001b[0m\n",
      "\u001b[1;32m~\\Miniconda3\\lib\\site-packages\\seaborn\\_decorators.py\u001b[0m in \u001b[0;36minner_f\u001b[1;34m(*args, **kwargs)\u001b[0m\n\u001b[0;32m     44\u001b[0m             )\n\u001b[0;32m     45\u001b[0m         \u001b[0mkwargs\u001b[0m\u001b[1;33m.\u001b[0m\u001b[0mupdate\u001b[0m\u001b[1;33m(\u001b[0m\u001b[1;33m{\u001b[0m\u001b[0mk\u001b[0m\u001b[1;33m:\u001b[0m \u001b[0marg\u001b[0m \u001b[1;32mfor\u001b[0m \u001b[0mk\u001b[0m\u001b[1;33m,\u001b[0m \u001b[0marg\u001b[0m \u001b[1;32min\u001b[0m \u001b[0mzip\u001b[0m\u001b[1;33m(\u001b[0m\u001b[0msig\u001b[0m\u001b[1;33m.\u001b[0m\u001b[0mparameters\u001b[0m\u001b[1;33m,\u001b[0m \u001b[0margs\u001b[0m\u001b[1;33m)\u001b[0m\u001b[1;33m}\u001b[0m\u001b[1;33m)\u001b[0m\u001b[1;33m\u001b[0m\u001b[1;33m\u001b[0m\u001b[0m\n\u001b[1;32m---> 46\u001b[1;33m         \u001b[1;32mreturn\u001b[0m \u001b[0mf\u001b[0m\u001b[1;33m(\u001b[0m\u001b[1;33m**\u001b[0m\u001b[0mkwargs\u001b[0m\u001b[1;33m)\u001b[0m\u001b[1;33m\u001b[0m\u001b[1;33m\u001b[0m\u001b[0m\n\u001b[0m\u001b[0;32m     47\u001b[0m     \u001b[1;32mreturn\u001b[0m \u001b[0minner_f\u001b[0m\u001b[1;33m\u001b[0m\u001b[1;33m\u001b[0m\u001b[0m\n\u001b[0;32m     48\u001b[0m \u001b[1;33m\u001b[0m\u001b[0m\n",
      "\u001b[1;32m~\\Miniconda3\\lib\\site-packages\\seaborn\\categorical.py\u001b[0m in \u001b[0;36mcatplot\u001b[1;34m(x, y, hue, data, row, col, col_wrap, estimator, ci, n_boot, units, seed, order, hue_order, row_order, col_order, kind, height, aspect, orient, color, palette, legend, legend_out, sharex, sharey, margin_titles, facet_kws, **kwargs)\u001b[0m\n\u001b[0;32m   3814\u001b[0m     \u001b[1;31m# so we need to define ``palette`` to get default behavior for the\u001b[0m\u001b[1;33m\u001b[0m\u001b[1;33m\u001b[0m\u001b[1;33m\u001b[0m\u001b[0m\n\u001b[0;32m   3815\u001b[0m     \u001b[1;31m# categorical functions\u001b[0m\u001b[1;33m\u001b[0m\u001b[1;33m\u001b[0m\u001b[1;33m\u001b[0m\u001b[0m\n\u001b[1;32m-> 3816\u001b[1;33m     \u001b[0mp\u001b[0m\u001b[1;33m.\u001b[0m\u001b[0mestablish_colors\u001b[0m\u001b[1;33m(\u001b[0m\u001b[0mcolor\u001b[0m\u001b[1;33m,\u001b[0m \u001b[0mpalette\u001b[0m\u001b[1;33m,\u001b[0m \u001b[1;36m1\u001b[0m\u001b[1;33m)\u001b[0m\u001b[1;33m\u001b[0m\u001b[1;33m\u001b[0m\u001b[0m\n\u001b[0m\u001b[0;32m   3817\u001b[0m     \u001b[1;32mif\u001b[0m \u001b[0mkind\u001b[0m \u001b[1;33m!=\u001b[0m \u001b[1;34m\"point\"\u001b[0m \u001b[1;32mor\u001b[0m \u001b[0mhue\u001b[0m \u001b[1;32mis\u001b[0m \u001b[1;32mnot\u001b[0m \u001b[1;32mNone\u001b[0m\u001b[1;33m:\u001b[0m\u001b[1;33m\u001b[0m\u001b[1;33m\u001b[0m\u001b[0m\n\u001b[0;32m   3818\u001b[0m         \u001b[0mpalette\u001b[0m \u001b[1;33m=\u001b[0m \u001b[0mp\u001b[0m\u001b[1;33m.\u001b[0m\u001b[0mcolors\u001b[0m\u001b[1;33m\u001b[0m\u001b[1;33m\u001b[0m\u001b[0m\n",
      "\u001b[1;32m~\\Miniconda3\\lib\\site-packages\\seaborn\\categorical.py\u001b[0m in \u001b[0;36mestablish_colors\u001b[1;34m(self, color, palette, saturation)\u001b[0m\n\u001b[0;32m    317\u001b[0m         \u001b[1;31m# Determine the gray color to use for the lines framing the plot\u001b[0m\u001b[1;33m\u001b[0m\u001b[1;33m\u001b[0m\u001b[1;33m\u001b[0m\u001b[0m\n\u001b[0;32m    318\u001b[0m         \u001b[0mlight_vals\u001b[0m \u001b[1;33m=\u001b[0m \u001b[1;33m[\u001b[0m\u001b[0mcolorsys\u001b[0m\u001b[1;33m.\u001b[0m\u001b[0mrgb_to_hls\u001b[0m\u001b[1;33m(\u001b[0m\u001b[1;33m*\u001b[0m\u001b[0mc\u001b[0m\u001b[1;33m)\u001b[0m\u001b[1;33m[\u001b[0m\u001b[1;36m1\u001b[0m\u001b[1;33m]\u001b[0m \u001b[1;32mfor\u001b[0m \u001b[0mc\u001b[0m \u001b[1;32min\u001b[0m \u001b[0mrgb_colors\u001b[0m\u001b[1;33m]\u001b[0m\u001b[1;33m\u001b[0m\u001b[1;33m\u001b[0m\u001b[0m\n\u001b[1;32m--> 319\u001b[1;33m         \u001b[0mlum\u001b[0m \u001b[1;33m=\u001b[0m \u001b[0mmin\u001b[0m\u001b[1;33m(\u001b[0m\u001b[0mlight_vals\u001b[0m\u001b[1;33m)\u001b[0m \u001b[1;33m*\u001b[0m \u001b[1;36m.6\u001b[0m\u001b[1;33m\u001b[0m\u001b[1;33m\u001b[0m\u001b[0m\n\u001b[0m\u001b[0;32m    320\u001b[0m         \u001b[0mgray\u001b[0m \u001b[1;33m=\u001b[0m \u001b[0mmpl\u001b[0m\u001b[1;33m.\u001b[0m\u001b[0mcolors\u001b[0m\u001b[1;33m.\u001b[0m\u001b[0mrgb2hex\u001b[0m\u001b[1;33m(\u001b[0m\u001b[1;33m(\u001b[0m\u001b[0mlum\u001b[0m\u001b[1;33m,\u001b[0m \u001b[0mlum\u001b[0m\u001b[1;33m,\u001b[0m \u001b[0mlum\u001b[0m\u001b[1;33m)\u001b[0m\u001b[1;33m)\u001b[0m\u001b[1;33m\u001b[0m\u001b[1;33m\u001b[0m\u001b[0m\n\u001b[0;32m    321\u001b[0m \u001b[1;33m\u001b[0m\u001b[0m\n",
      "\u001b[1;31mValueError\u001b[0m: min() arg is an empty sequence"
     ]
    }
   ],
   "source": [
    "sn.set_style=(\"white\")\n",
    "sn.set(font_scale = 1.4)\n",
    "sn.set_palette(\"crest\")\n",
    "\n",
    "### Plot Max, Min, Mean\n",
    "df_forces_means = df_forces.melt(id_vars=[\"direction\", \"foot2\"], value_vars=[\"MeanX\", \"MeanY\", \"MeanZ\"])\n",
    "df_forces_means_up = df_forces_means[df_forces_means[\"direction\"]==\"up\"]\n",
    "print(df_forces_means_up.head())\n",
    "sn.catplot(x=\"variable\", y=\"value\", data=df_forces_means_up, col=\"foot2\", hue=\"variable\")\n",
    "\n",
    "### Plot Max, Min, Mean\n",
    "df_forces_max = df_forces.melt(id_vars=[\"direction\", \"foot2\"], value_vars=[\"MaxX\", \"MaxY\", \"MaxZ\"])\n",
    "print(df_forces_max.head())\n",
    "sn.catplot(x=\"variable\", y=\"value\", data=df_forces_max, col=\"foot2\", hue=\"variable\")\n",
    "\n",
    "### Plot Max, Min, Mean\n",
    "df_forces_min = df_forces.melt(id_vars=[\"direction\", \"foot2\"], value_vars=[\"MinX\", \"MinY\", \"MinZ\"])\n",
    "print(df_forces_min.head())\n",
    "sn.catplot(x=\"variable\", y=\"value\", data=df_forces_min, col=\"foot2\", hue=\"variable\")"
   ]
  }
 ],
 "metadata": {
  "kernelspec": {
   "display_name": "Python 3",
   "language": "python",
   "name": "python3"
  },
  "language_info": {
   "codemirror_mode": {
    "name": "ipython",
    "version": 3
   },
   "file_extension": ".py",
   "mimetype": "text/x-python",
   "name": "python",
   "nbconvert_exporter": "python",
   "pygments_lexer": "ipython3",
   "version": "3.6.9"
  }
 },
 "nbformat": 4,
 "nbformat_minor": 5
}
